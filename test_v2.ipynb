{
 "cells": [
  {
   "cell_type": "code",
   "execution_count": 2,
   "id": "12719037",
   "metadata": {},
   "outputs": [
    {
     "ename": "KeyboardInterrupt",
     "evalue": "",
     "output_type": "error",
     "traceback": [
      "\u001b[1;31m---------------------------------------------------------------------------\u001b[0m",
      "\u001b[1;31mKeyboardInterrupt\u001b[0m                         Traceback (most recent call last)",
      "\u001b[1;32m~\\AppData\\Local\\Temp/ipykernel_27720/1107277212.py\u001b[0m in \u001b[0;36m<module>\u001b[1;34m\u001b[0m\n\u001b[0;32m     14\u001b[0m         \u001b[1;32mbreak\u001b[0m\u001b[1;33m\u001b[0m\u001b[1;33m\u001b[0m\u001b[0m\n\u001b[0;32m     15\u001b[0m     \u001b[0mgray_frame\u001b[0m \u001b[1;33m=\u001b[0m \u001b[0mcv\u001b[0m\u001b[1;33m.\u001b[0m\u001b[0mcvtColor\u001b[0m\u001b[1;33m(\u001b[0m\u001b[0mframe\u001b[0m\u001b[1;33m,\u001b[0m \u001b[0mcv\u001b[0m\u001b[1;33m.\u001b[0m\u001b[0mCOLOR_BGR2GRAY\u001b[0m\u001b[1;33m)\u001b[0m\u001b[1;33m\u001b[0m\u001b[1;33m\u001b[0m\u001b[0m\n\u001b[1;32m---> 16\u001b[1;33m     marker_corners, marker_IDs, reject = aruco.detectMarkers(\n\u001b[0m\u001b[0;32m     17\u001b[0m         \u001b[0mgray_frame\u001b[0m\u001b[1;33m,\u001b[0m \u001b[0mmarker_dict\u001b[0m\u001b[1;33m,\u001b[0m \u001b[0mparameters\u001b[0m\u001b[1;33m=\u001b[0m\u001b[0mparam_markers\u001b[0m\u001b[1;33m\u001b[0m\u001b[1;33m\u001b[0m\u001b[0m\n\u001b[0;32m     18\u001b[0m     )\n",
      "\u001b[1;31mKeyboardInterrupt\u001b[0m: "
     ]
    }
   ],
   "source": [
    "import cv2 as cv\n",
    "from cv2 import aruco\n",
    "import numpy as np\n",
    "\n",
    "marker_dict = aruco.Dictionary_get(aruco.DICT_4X4_50)\n",
    "\n",
    "param_markers = aruco.DetectorParameters_create()\n",
    "\n",
    "cap = cv.VideoCapture(0)\n",
    "\n",
    "while True:\n",
    "    ret, frame = cap.read()\n",
    "    if not ret:\n",
    "        break\n",
    "    gray_frame = cv.cvtColor(frame, cv.COLOR_BGR2GRAY)\n",
    "    marker_corners, marker_IDs, reject = aruco.detectMarkers(\n",
    "        gray_frame, marker_dict, parameters=param_markers\n",
    "    )\n",
    "    if marker_corners:\n",
    "        for ids, corners in zip(marker_IDs, marker_corners):\n",
    "            cv.polylines(\n",
    "                frame, [corners.astype(np.int32)], True, (0, 255, 255), 4, cv.LINE_AA\n",
    "            )\n",
    "            corners = corners.reshape(4, 2)\n",
    "            corners = corners.astype(int)\n",
    "            top_right = corners[0].ravel()\n",
    "            top_left = corners[1].ravel()\n",
    "            bottom_right = corners[2].ravel()\n",
    "            bottom_left = corners[3].ravel()\n",
    "            cv.putText(\n",
    "                frame,\n",
    "                f\"id: {ids[0]}\",\n",
    "                top_right,\n",
    "                cv.FONT_HERSHEY_PLAIN,\n",
    "                1.3,\n",
    "                (200, 100, 0),\n",
    "                2,\n",
    "                cv.LINE_AA,\n",
    "            )\n",
    "            # print(ids, \"  \", corners)\n",
    "    cv.imshow(\"frame\", frame)\n",
    "    key = cv.waitKey(1)\n",
    "    if key == ord(\"q\"):\n",
    "        break\n",
    "cap.release()\n",
    "cv.destroyAllWindows()"
   ]
  },
  {
   "cell_type": "code",
   "execution_count": 3,
   "id": "06fd10a2",
   "metadata": {},
   "outputs": [],
   "source": [
    "cap.release()\n",
    "cv.destroyAllWindows()"
   ]
  }
 ],
 "metadata": {
  "kernelspec": {
   "display_name": "Python 3 (ipykernel)",
   "language": "python",
   "name": "python3"
  },
  "language_info": {
   "codemirror_mode": {
    "name": "ipython",
    "version": 3
   },
   "file_extension": ".py",
   "mimetype": "text/x-python",
   "name": "python",
   "nbconvert_exporter": "python",
   "pygments_lexer": "ipython3",
   "version": "3.9.7"
  }
 },
 "nbformat": 4,
 "nbformat_minor": 5
}
